{
 "cells": [
  {
   "cell_type": "code",
   "execution_count": 1,
   "metadata": {},
   "outputs": [],
   "source": [
    "import numpy as np\n",
    "import matplotlib.pyplot as plt\n",
    "import os\n",
    "import timeit\n",
    "import zipfile\n",
    "from numpy import genfromtxt\n",
    "import pandas as pd\n",
    "import seaborn as sns"
   ]
  },
  {
   "cell_type": "code",
   "execution_count": 2,
   "metadata": {},
   "outputs": [],
   "source": [
    "from sklearn import svm\n",
    "from sklearn.model_selection import train_test_split\n",
    "from sklearn.metrics import accuracy_score\n",
    "from sklearn.preprocessing import MinMaxScaler\n",
    "from sklearn.preprocessing import PolynomialFeatures"
   ]
  },
  {
   "cell_type": "code",
   "execution_count": 3,
   "metadata": {},
   "outputs": [
    {
     "name": "stdout",
     "output_type": "stream",
     "text": [
      "/home/vazumah/AIML24787-Project\n"
     ]
    }
   ],
   "source": [
    "cdir = os.getcwd()\n",
    "print(cdir)\n",
    "zip_dir = '/home/vazumah/AIML24787-Project/'\n",
    "os.chdir(zip_dir)"
   ]
  },
  {
   "cell_type": "code",
   "execution_count": 4,
   "metadata": {},
   "outputs": [],
   "source": [
    "with zipfile.ZipFile('ML_Final_Project_Data.zip', 'r') as zip_ref:\n",
    "    zip_ref.extractall(os.getcwd())"
   ]
  },
  {
   "cell_type": "code",
   "execution_count": 5,
   "metadata": {},
   "outputs": [],
   "source": [
    "def nucleotide_pore_data(name='mxene'):\n",
    "    \n",
    "    # load adenosine dataset\n",
    "    A_x = genfromtxt(f'./ML Final Project Data/a_{name}.csv',delimiter=',')\n",
    "    A_x_clean = A_x[1:, 1:]\n",
    "    A_y = np.zeros([A_x_clean.shape[0],1])\n",
    "    A_x_p= np.zeros([A_x_clean.shape[0],1])  # 'Purine'\n",
    "    \n",
    "    # load cytosine dataset\n",
    "    C_x = genfromtxt(f'./ML Final Project Data/c_{name}.csv',delimiter=',')\n",
    "    C_x_clean = C_x[1:, 1:]\n",
    "    C_y = np.ones([C_x_clean.shape[0],1])\n",
    "    C_x_p= np.ones([C_x_clean.shape[0],1]) #'Pyrimidine'\n",
    "    \n",
    "    # load guanine dataset\n",
    "    G_x = genfromtxt(f'./ML Final Project Data/g_{name}.csv',delimiter=',')\n",
    "    G_x_clean = G_x[1:, 1:]\n",
    "    G_y = np.zeros([G_x_clean.shape[0],1])\n",
    "    G_y[:]= 2\n",
    "    G_x_p= np.zeros([G_x_clean.shape[0],1]) #'Purine'\n",
    "    \n",
    "    #load thyiamine dataset\n",
    "    T_x = genfromtxt(f'./ML Final Project Data/t_{name}.csv',delimiter=',')\n",
    "    T_x_clean = T_x[1:, 1:]\n",
    "    T_y = np.zeros([T_x_clean.shape[0],1])\n",
    "    T_y[:] = 3\n",
    "    T_x_p= np.ones([T_x_clean.shape[0],1]) #'Pyrimidine'\n",
    "    \n",
    "    X = np.concatenate((A_x_clean, C_x_clean,G_x_clean,T_x_clean), axis=0)\n",
    "    y = np.concatenate((A_y, C_y,G_y,T_y), axis=0)\n",
    "    dna_class = np.concatenate((A_x_p, C_x_p,G_x_p,T_x_p), axis=0)\n",
    "    Xeng = np.concatenate((X,dna_class), axis=1)\n",
    "    scaler = MinMaxScaler(feature_range=(0, 1))\n",
    "    X = scaler.fit_transform(X)\n",
    "    Xeng = scaler.fit_transform(Xeng)\n",
    "    \n",
    "    return X, y, dna_class, Xeng"
   ]
  },
  {
   "cell_type": "code",
   "execution_count": 6,
   "metadata": {},
   "outputs": [],
   "source": [
    "Xxene, yxene, dna_xene, Xxeng = nucleotide_pore_data(name='mxene')\n",
    "(X_train, X_test, y_train, y_test) = train_test_split(Xxene, yxene.ravel(), test_size =  0.3, random_state=300)"
   ]
  },
  {
   "cell_type": "code",
   "execution_count": 7,
   "metadata": {},
   "outputs": [],
   "source": [
    "svm_model_l = svm.SVC(kernel='linear')\n",
    "svm_model_r = svm.SVC()\n",
    "svm_model_s = svm.SVC(kernel='sigmoid')\n",
    "svm_model_p = svm.SVC(kernel='poly', degree=5)"
   ]
  },
  {
   "cell_type": "code",
   "execution_count": 8,
   "metadata": {},
   "outputs": [],
   "source": [
    "svm_model_lf= svm_model_l.fit(X_train, y_train)\n",
    "svm_model_l_res_pred = svm_model_l.predict(X_test)\n",
    "svm_model_l_score = accuracy_score(y_test, svm_model_l_res_pred)\n",
    "\n",
    "svm_model_rf= svm_model_r.fit(X_train, y_train)\n",
    "svm_model_r_res_pred = svm_model_r.predict(X_test)\n",
    "svm_model_r_score = accuracy_score(y_test, svm_model_r_res_pred)\n",
    "\n",
    "svm_model_sf= svm_model_s.fit(X_train, y_train)\n",
    "svm_model_s_res_pred = svm_model_s.predict(X_test)\n",
    "svm_model_s_score = accuracy_score(y_test, svm_model_s_res_pred)\n",
    "\n",
    "svm_model_pf= svm_model_p.fit(X_train, y_train)\n",
    "svm_model_p_res_pred = svm_model_p.predict(X_test)\n",
    "svm_model_p_score = accuracy_score(y_test, svm_model_p_res_pred)"
   ]
  }
 ],
 "metadata": {
  "kernelspec": {
   "display_name": "NAME",
   "language": "python",
   "name": "name"
  },
  "orig_nbformat": 4
 },
 "nbformat": 4,
 "nbformat_minor": 2
}
